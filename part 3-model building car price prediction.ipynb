{
 "cells": [
  {
   "cell_type": "code",
   "execution_count": 12,
   "id": "fa2a7541",
   "metadata": {},
   "outputs": [],
   "source": [
    "import pandas as pd\n",
    "import matplotlib.pyplot as plt\n",
    "import seaborn as sns\n",
    "\n",
    "import warnings\n",
    "warnings.filterwarnings('ignore')\n"
   ]
  },
  {
   "cell_type": "code",
   "execution_count": 18,
   "id": "305b1910",
   "metadata": {},
   "outputs": [
    {
     "data": {
      "text/html": [
       "<div>\n",
       "<style scoped>\n",
       "    .dataframe tbody tr th:only-of-type {\n",
       "        vertical-align: middle;\n",
       "    }\n",
       "\n",
       "    .dataframe tbody tr th {\n",
       "        vertical-align: top;\n",
       "    }\n",
       "\n",
       "    .dataframe thead th {\n",
       "        text-align: right;\n",
       "    }\n",
       "</style>\n",
       "<table border=\"1\" class=\"dataframe\">\n",
       "  <thead>\n",
       "    <tr style=\"text-align: right;\">\n",
       "      <th></th>\n",
       "      <th>car_name</th>\n",
       "      <th>model_name</th>\n",
       "      <th>no_of_owner</th>\n",
       "      <th>KMS_Driven</th>\n",
       "      <th>mfg_year</th>\n",
       "      <th>colour</th>\n",
       "      <th>seating_capacity</th>\n",
       "      <th>milage</th>\n",
       "      <th>price</th>\n",
       "      <th>original_price</th>\n",
       "      <th>CNG</th>\n",
       "      <th>Diesel</th>\n",
       "      <th>Electric</th>\n",
       "      <th>Petrol</th>\n",
       "    </tr>\n",
       "  </thead>\n",
       "  <tbody>\n",
       "    <tr>\n",
       "      <th>0</th>\n",
       "      <td>Honda</td>\n",
       "      <td>Amaze</td>\n",
       "      <td>1</td>\n",
       "      <td>36471</td>\n",
       "      <td>2021</td>\n",
       "      <td>14</td>\n",
       "      <td>5</td>\n",
       "      <td>19.0</td>\n",
       "      <td>9.20</td>\n",
       "      <td>7.99</td>\n",
       "      <td>0</td>\n",
       "      <td>0</td>\n",
       "      <td>0</td>\n",
       "      <td>1</td>\n",
       "    </tr>\n",
       "    <tr>\n",
       "      <th>1</th>\n",
       "      <td>Honda</td>\n",
       "      <td>Civic</td>\n",
       "      <td>1</td>\n",
       "      <td>29000</td>\n",
       "      <td>2019</td>\n",
       "      <td>13</td>\n",
       "      <td>5</td>\n",
       "      <td>16.5</td>\n",
       "      <td>16.90</td>\n",
       "      <td>17.02</td>\n",
       "      <td>0</td>\n",
       "      <td>0</td>\n",
       "      <td>0</td>\n",
       "      <td>1</td>\n",
       "    </tr>\n",
       "    <tr>\n",
       "      <th>2</th>\n",
       "      <td>Honda</td>\n",
       "      <td>Jazz</td>\n",
       "      <td>1</td>\n",
       "      <td>34356</td>\n",
       "      <td>2016</td>\n",
       "      <td>14</td>\n",
       "      <td>5</td>\n",
       "      <td>19.0</td>\n",
       "      <td>6.25</td>\n",
       "      <td>6.15</td>\n",
       "      <td>0</td>\n",
       "      <td>0</td>\n",
       "      <td>0</td>\n",
       "      <td>1</td>\n",
       "    </tr>\n",
       "    <tr>\n",
       "      <th>3</th>\n",
       "      <td>Maruti</td>\n",
       "      <td>Suzuki</td>\n",
       "      <td>1</td>\n",
       "      <td>32000</td>\n",
       "      <td>2017</td>\n",
       "      <td>7</td>\n",
       "      <td>5</td>\n",
       "      <td>20.5</td>\n",
       "      <td>4.25</td>\n",
       "      <td>4.48</td>\n",
       "      <td>0</td>\n",
       "      <td>0</td>\n",
       "      <td>0</td>\n",
       "      <td>1</td>\n",
       "    </tr>\n",
       "    <tr>\n",
       "      <th>4</th>\n",
       "      <td>Honda</td>\n",
       "      <td>Jazz</td>\n",
       "      <td>1</td>\n",
       "      <td>17847</td>\n",
       "      <td>2019</td>\n",
       "      <td>14</td>\n",
       "      <td>5</td>\n",
       "      <td>18.7</td>\n",
       "      <td>6.80</td>\n",
       "      <td>7.75</td>\n",
       "      <td>0</td>\n",
       "      <td>0</td>\n",
       "      <td>0</td>\n",
       "      <td>1</td>\n",
       "    </tr>\n",
       "    <tr>\n",
       "      <th>...</th>\n",
       "      <td>...</td>\n",
       "      <td>...</td>\n",
       "      <td>...</td>\n",
       "      <td>...</td>\n",
       "      <td>...</td>\n",
       "      <td>...</td>\n",
       "      <td>...</td>\n",
       "      <td>...</td>\n",
       "      <td>...</td>\n",
       "      <td>...</td>\n",
       "      <td>...</td>\n",
       "      <td>...</td>\n",
       "      <td>...</td>\n",
       "      <td>...</td>\n",
       "    </tr>\n",
       "    <tr>\n",
       "      <th>1372</th>\n",
       "      <td>BMW</td>\n",
       "      <td>iX</td>\n",
       "      <td>0</td>\n",
       "      <td>2750</td>\n",
       "      <td>2022</td>\n",
       "      <td>1</td>\n",
       "      <td>5</td>\n",
       "      <td>326.0</td>\n",
       "      <td>7.45</td>\n",
       "      <td>8.44</td>\n",
       "      <td>0</td>\n",
       "      <td>0</td>\n",
       "      <td>1</td>\n",
       "      <td>0</td>\n",
       "    </tr>\n",
       "    <tr>\n",
       "      <th>1373</th>\n",
       "      <td>Tata</td>\n",
       "      <td>Nexon</td>\n",
       "      <td>1</td>\n",
       "      <td>20000</td>\n",
       "      <td>2021</td>\n",
       "      <td>6</td>\n",
       "      <td>5</td>\n",
       "      <td>127.0</td>\n",
       "      <td>15.25</td>\n",
       "      <td>15.63</td>\n",
       "      <td>0</td>\n",
       "      <td>0</td>\n",
       "      <td>1</td>\n",
       "      <td>0</td>\n",
       "    </tr>\n",
       "    <tr>\n",
       "      <th>1374</th>\n",
       "      <td>Tata</td>\n",
       "      <td>Nexon</td>\n",
       "      <td>1</td>\n",
       "      <td>20000</td>\n",
       "      <td>2021</td>\n",
       "      <td>6</td>\n",
       "      <td>5</td>\n",
       "      <td>127.0</td>\n",
       "      <td>15.25</td>\n",
       "      <td>15.63</td>\n",
       "      <td>0</td>\n",
       "      <td>0</td>\n",
       "      <td>1</td>\n",
       "      <td>0</td>\n",
       "    </tr>\n",
       "    <tr>\n",
       "      <th>1375</th>\n",
       "      <td>MG</td>\n",
       "      <td>ZS</td>\n",
       "      <td>1</td>\n",
       "      <td>7500</td>\n",
       "      <td>2021</td>\n",
       "      <td>2</td>\n",
       "      <td>5</td>\n",
       "      <td>340.0</td>\n",
       "      <td>23.00</td>\n",
       "      <td>23.60</td>\n",
       "      <td>0</td>\n",
       "      <td>0</td>\n",
       "      <td>1</td>\n",
       "      <td>0</td>\n",
       "    </tr>\n",
       "    <tr>\n",
       "      <th>1376</th>\n",
       "      <td>Tata</td>\n",
       "      <td>Nexon</td>\n",
       "      <td>1</td>\n",
       "      <td>20000</td>\n",
       "      <td>2021</td>\n",
       "      <td>6</td>\n",
       "      <td>5</td>\n",
       "      <td>127.0</td>\n",
       "      <td>15.25</td>\n",
       "      <td>15.63</td>\n",
       "      <td>0</td>\n",
       "      <td>0</td>\n",
       "      <td>1</td>\n",
       "      <td>0</td>\n",
       "    </tr>\n",
       "  </tbody>\n",
       "</table>\n",
       "<p>1377 rows × 14 columns</p>\n",
       "</div>"
      ],
      "text/plain": [
       "     car_name model_name  no_of_owner  KMS_Driven  mfg_year  colour  \\\n",
       "0       Honda      Amaze            1       36471      2021      14   \n",
       "1       Honda      Civic            1       29000      2019      13   \n",
       "2       Honda       Jazz            1       34356      2016      14   \n",
       "3      Maruti     Suzuki            1       32000      2017       7   \n",
       "4       Honda       Jazz            1       17847      2019      14   \n",
       "...       ...        ...          ...         ...       ...     ...   \n",
       "1372      BMW         iX            0        2750      2022       1   \n",
       "1373     Tata      Nexon            1       20000      2021       6   \n",
       "1374     Tata      Nexon            1       20000      2021       6   \n",
       "1375       MG         ZS            1        7500      2021       2   \n",
       "1376     Tata      Nexon            1       20000      2021       6   \n",
       "\n",
       "      seating_capacity  milage  price  original_price  CNG  Diesel  Electric  \\\n",
       "0                    5    19.0   9.20            7.99    0       0         0   \n",
       "1                    5    16.5  16.90           17.02    0       0         0   \n",
       "2                    5    19.0   6.25            6.15    0       0         0   \n",
       "3                    5    20.5   4.25            4.48    0       0         0   \n",
       "4                    5    18.7   6.80            7.75    0       0         0   \n",
       "...                ...     ...    ...             ...  ...     ...       ...   \n",
       "1372                 5   326.0   7.45            8.44    0       0         1   \n",
       "1373                 5   127.0  15.25           15.63    0       0         1   \n",
       "1374                 5   127.0  15.25           15.63    0       0         1   \n",
       "1375                 5   340.0  23.00           23.60    0       0         1   \n",
       "1376                 5   127.0  15.25           15.63    0       0         1   \n",
       "\n",
       "      Petrol  \n",
       "0          1  \n",
       "1          1  \n",
       "2          1  \n",
       "3          1  \n",
       "4          1  \n",
       "...      ...  \n",
       "1372       0  \n",
       "1373       0  \n",
       "1374       0  \n",
       "1375       0  \n",
       "1376       0  \n",
       "\n",
       "[1377 rows x 14 columns]"
      ]
     },
     "execution_count": 18,
     "metadata": {},
     "output_type": "execute_result"
    }
   ],
   "source": [
    "car_data=pd.read_csv('car_data_final.csv')\n",
    "car_data.drop(columns='Unnamed: 0',inplace=True)\n",
    "car_data\n",
    "\n",
    "\n"
   ]
  },
  {
   "cell_type": "code",
   "execution_count": 19,
   "id": "4b9f3378",
   "metadata": {
    "scrolled": true
   },
   "outputs": [
    {
     "data": {
      "text/plain": [
       "0        9.20\n",
       "1       16.90\n",
       "2        6.25\n",
       "3        4.25\n",
       "4        6.80\n",
       "        ...  \n",
       "1372     7.45\n",
       "1373    15.25\n",
       "1374    15.25\n",
       "1375    23.00\n",
       "1376    15.25\n",
       "Name: price, Length: 1377, dtype: float64"
      ]
     },
     "execution_count": 19,
     "metadata": {},
     "output_type": "execute_result"
    }
   ],
   "source": [
    "# dividing the data into independent and dependent variables\n",
    "Y=car_data['price']\n",
    "Y"
   ]
  },
  {
   "cell_type": "code",
   "execution_count": 20,
   "id": "a7bac0c5",
   "metadata": {
    "scrolled": false
   },
   "outputs": [
    {
     "data": {
      "text/html": [
       "<div>\n",
       "<style scoped>\n",
       "    .dataframe tbody tr th:only-of-type {\n",
       "        vertical-align: middle;\n",
       "    }\n",
       "\n",
       "    .dataframe tbody tr th {\n",
       "        vertical-align: top;\n",
       "    }\n",
       "\n",
       "    .dataframe thead th {\n",
       "        text-align: right;\n",
       "    }\n",
       "</style>\n",
       "<table border=\"1\" class=\"dataframe\">\n",
       "  <thead>\n",
       "    <tr style=\"text-align: right;\">\n",
       "      <th></th>\n",
       "      <th>car_name</th>\n",
       "      <th>model_name</th>\n",
       "      <th>no_of_owner</th>\n",
       "      <th>KMS_Driven</th>\n",
       "      <th>mfg_year</th>\n",
       "      <th>colour</th>\n",
       "      <th>seating_capacity</th>\n",
       "      <th>milage</th>\n",
       "      <th>CNG</th>\n",
       "      <th>Diesel</th>\n",
       "      <th>Electric</th>\n",
       "      <th>Petrol</th>\n",
       "    </tr>\n",
       "  </thead>\n",
       "  <tbody>\n",
       "    <tr>\n",
       "      <th>0</th>\n",
       "      <td>Honda</td>\n",
       "      <td>Amaze</td>\n",
       "      <td>1</td>\n",
       "      <td>36471</td>\n",
       "      <td>2021</td>\n",
       "      <td>14</td>\n",
       "      <td>5</td>\n",
       "      <td>19.0</td>\n",
       "      <td>0</td>\n",
       "      <td>0</td>\n",
       "      <td>0</td>\n",
       "      <td>1</td>\n",
       "    </tr>\n",
       "    <tr>\n",
       "      <th>1</th>\n",
       "      <td>Honda</td>\n",
       "      <td>Civic</td>\n",
       "      <td>1</td>\n",
       "      <td>29000</td>\n",
       "      <td>2019</td>\n",
       "      <td>13</td>\n",
       "      <td>5</td>\n",
       "      <td>16.5</td>\n",
       "      <td>0</td>\n",
       "      <td>0</td>\n",
       "      <td>0</td>\n",
       "      <td>1</td>\n",
       "    </tr>\n",
       "    <tr>\n",
       "      <th>2</th>\n",
       "      <td>Honda</td>\n",
       "      <td>Jazz</td>\n",
       "      <td>1</td>\n",
       "      <td>34356</td>\n",
       "      <td>2016</td>\n",
       "      <td>14</td>\n",
       "      <td>5</td>\n",
       "      <td>19.0</td>\n",
       "      <td>0</td>\n",
       "      <td>0</td>\n",
       "      <td>0</td>\n",
       "      <td>1</td>\n",
       "    </tr>\n",
       "    <tr>\n",
       "      <th>3</th>\n",
       "      <td>Maruti</td>\n",
       "      <td>Suzuki</td>\n",
       "      <td>1</td>\n",
       "      <td>32000</td>\n",
       "      <td>2017</td>\n",
       "      <td>7</td>\n",
       "      <td>5</td>\n",
       "      <td>20.5</td>\n",
       "      <td>0</td>\n",
       "      <td>0</td>\n",
       "      <td>0</td>\n",
       "      <td>1</td>\n",
       "    </tr>\n",
       "    <tr>\n",
       "      <th>4</th>\n",
       "      <td>Honda</td>\n",
       "      <td>Jazz</td>\n",
       "      <td>1</td>\n",
       "      <td>17847</td>\n",
       "      <td>2019</td>\n",
       "      <td>14</td>\n",
       "      <td>5</td>\n",
       "      <td>18.7</td>\n",
       "      <td>0</td>\n",
       "      <td>0</td>\n",
       "      <td>0</td>\n",
       "      <td>1</td>\n",
       "    </tr>\n",
       "    <tr>\n",
       "      <th>...</th>\n",
       "      <td>...</td>\n",
       "      <td>...</td>\n",
       "      <td>...</td>\n",
       "      <td>...</td>\n",
       "      <td>...</td>\n",
       "      <td>...</td>\n",
       "      <td>...</td>\n",
       "      <td>...</td>\n",
       "      <td>...</td>\n",
       "      <td>...</td>\n",
       "      <td>...</td>\n",
       "      <td>...</td>\n",
       "    </tr>\n",
       "    <tr>\n",
       "      <th>1372</th>\n",
       "      <td>BMW</td>\n",
       "      <td>iX</td>\n",
       "      <td>0</td>\n",
       "      <td>2750</td>\n",
       "      <td>2022</td>\n",
       "      <td>1</td>\n",
       "      <td>5</td>\n",
       "      <td>326.0</td>\n",
       "      <td>0</td>\n",
       "      <td>0</td>\n",
       "      <td>1</td>\n",
       "      <td>0</td>\n",
       "    </tr>\n",
       "    <tr>\n",
       "      <th>1373</th>\n",
       "      <td>Tata</td>\n",
       "      <td>Nexon</td>\n",
       "      <td>1</td>\n",
       "      <td>20000</td>\n",
       "      <td>2021</td>\n",
       "      <td>6</td>\n",
       "      <td>5</td>\n",
       "      <td>127.0</td>\n",
       "      <td>0</td>\n",
       "      <td>0</td>\n",
       "      <td>1</td>\n",
       "      <td>0</td>\n",
       "    </tr>\n",
       "    <tr>\n",
       "      <th>1374</th>\n",
       "      <td>Tata</td>\n",
       "      <td>Nexon</td>\n",
       "      <td>1</td>\n",
       "      <td>20000</td>\n",
       "      <td>2021</td>\n",
       "      <td>6</td>\n",
       "      <td>5</td>\n",
       "      <td>127.0</td>\n",
       "      <td>0</td>\n",
       "      <td>0</td>\n",
       "      <td>1</td>\n",
       "      <td>0</td>\n",
       "    </tr>\n",
       "    <tr>\n",
       "      <th>1375</th>\n",
       "      <td>MG</td>\n",
       "      <td>ZS</td>\n",
       "      <td>1</td>\n",
       "      <td>7500</td>\n",
       "      <td>2021</td>\n",
       "      <td>2</td>\n",
       "      <td>5</td>\n",
       "      <td>340.0</td>\n",
       "      <td>0</td>\n",
       "      <td>0</td>\n",
       "      <td>1</td>\n",
       "      <td>0</td>\n",
       "    </tr>\n",
       "    <tr>\n",
       "      <th>1376</th>\n",
       "      <td>Tata</td>\n",
       "      <td>Nexon</td>\n",
       "      <td>1</td>\n",
       "      <td>20000</td>\n",
       "      <td>2021</td>\n",
       "      <td>6</td>\n",
       "      <td>5</td>\n",
       "      <td>127.0</td>\n",
       "      <td>0</td>\n",
       "      <td>0</td>\n",
       "      <td>1</td>\n",
       "      <td>0</td>\n",
       "    </tr>\n",
       "  </tbody>\n",
       "</table>\n",
       "<p>1377 rows × 12 columns</p>\n",
       "</div>"
      ],
      "text/plain": [
       "     car_name model_name  no_of_owner  KMS_Driven  mfg_year  colour  \\\n",
       "0       Honda      Amaze            1       36471      2021      14   \n",
       "1       Honda      Civic            1       29000      2019      13   \n",
       "2       Honda       Jazz            1       34356      2016      14   \n",
       "3      Maruti     Suzuki            1       32000      2017       7   \n",
       "4       Honda       Jazz            1       17847      2019      14   \n",
       "...       ...        ...          ...         ...       ...     ...   \n",
       "1372      BMW         iX            0        2750      2022       1   \n",
       "1373     Tata      Nexon            1       20000      2021       6   \n",
       "1374     Tata      Nexon            1       20000      2021       6   \n",
       "1375       MG         ZS            1        7500      2021       2   \n",
       "1376     Tata      Nexon            1       20000      2021       6   \n",
       "\n",
       "      seating_capacity  milage  CNG  Diesel  Electric  Petrol  \n",
       "0                    5    19.0    0       0         0       1  \n",
       "1                    5    16.5    0       0         0       1  \n",
       "2                    5    19.0    0       0         0       1  \n",
       "3                    5    20.5    0       0         0       1  \n",
       "4                    5    18.7    0       0         0       1  \n",
       "...                ...     ...  ...     ...       ...     ...  \n",
       "1372                 5   326.0    0       0         1       0  \n",
       "1373                 5   127.0    0       0         1       0  \n",
       "1374                 5   127.0    0       0         1       0  \n",
       "1375                 5   340.0    0       0         1       0  \n",
       "1376                 5   127.0    0       0         1       0  \n",
       "\n",
       "[1377 rows x 12 columns]"
      ]
     },
     "execution_count": 20,
     "metadata": {},
     "output_type": "execute_result"
    }
   ],
   "source": [
    "X=car_data.drop(['price','original_price'],axis=1)\n",
    "X\n"
   ]
  },
  {
   "cell_type": "code",
   "execution_count": 21,
   "id": "a7d141ab",
   "metadata": {},
   "outputs": [],
   "source": [
    "# dividig the data set into training and testing\n",
    "from sklearn.model_selection import train_test_split"
   ]
  },
  {
   "cell_type": "code",
   "execution_count": 22,
   "id": "03d74f28",
   "metadata": {},
   "outputs": [],
   "source": [
    "x_train, x_test, y_train, y_test = train_test_split(X, Y, test_size=0.2,random_state=42)"
   ]
  },
  {
   "cell_type": "markdown",
   "id": "d668f7cb",
   "metadata": {},
   "source": [
    "# model Biulding\n"
   ]
  },
  {
   "cell_type": "code",
   "execution_count": 7,
   "id": "0fed666a",
   "metadata": {},
   "outputs": [],
   "source": [
    "import statsmodels.api as sm"
   ]
  },
  {
   "cell_type": "code",
   "execution_count": 13,
   "id": "c0208f8b",
   "metadata": {},
   "outputs": [],
   "source": [
    "from sklearn.compose import ColumnTransformer # to handle the categorivcal features in we are having in data.\n",
    "from sklearn.pipeline import Pipeline          \n",
    "from sklearn.preprocessing import OneHotEncoder   # to hanfle the categorical features\n",
    "from sklearn.metrics import r2_score, mean_absolute_error,mean_squared_error"
   ]
  },
  {
   "cell_type": "code",
   "execution_count": 14,
   "id": "243cf34e",
   "metadata": {},
   "outputs": [],
   "source": [
    "from sklearn.linear_model import LinearRegression,Ridge,Lasso\n",
    "from sklearn.neighbors import KNeighborsRegressor\n",
    "from sklearn.tree import DecisionTreeRegressor\n",
    "from sklearn.ensemble import RandomForestRegressor,GradientBoostingRegressor,AdaBoostRegressor,ExtraTreesRegressor\n",
    "from sklearn.svm import SVR\n",
    "from xgboost import XGBRegressor\n",
    "from sklearn.model_selection import GridSearchCV"
   ]
  },
  {
   "cell_type": "markdown",
   "id": "ab240b99",
   "metadata": {},
   "source": [
    "# Model No 1: LinearRegression"
   ]
  },
  {
   "cell_type": "code",
   "execution_count": 10,
   "id": "3acce4cb",
   "metadata": {
    "scrolled": false
   },
   "outputs": [
    {
     "name": "stdout",
     "output_type": "stream",
     "text": [
      "r2_score 0.772291126767218\n",
      "MAE 1.8964743811765232\n",
      "MSE 31.383312654464294\n"
     ]
    }
   ],
   "source": [
    "step1=ColumnTransformer(transformers=[\n",
    "    ('col_trf', OneHotEncoder(sparse=False, drop='first',handle_unknown='ignore'),[0,1])\n",
    "],remainder='passthrough')\n",
    "\n",
    "step2=LinearRegression()\n",
    "\n",
    "pipe=Pipeline([\n",
    "    ('step1',step1),\n",
    "    ('step2',step2)\n",
    "])\n",
    "\n",
    "model=pipe.fit(x_train,y_train)\n",
    "\n",
    "y_pred=pipe.predict(x_test)\n",
    "\n",
    "print('r2_score',r2_score(y_test,y_pred))\n",
    "print('MAE',mean_absolute_error(y_test,y_pred))\n",
    "print('MSE',mean_squared_error(y_test,y_pred))"
   ]
  },
  {
   "cell_type": "code",
   "execution_count": 11,
   "id": "4026d4c6",
   "metadata": {},
   "outputs": [
    {
     "data": {
      "text/plain": [
       "6.619368681043077"
      ]
     },
     "execution_count": 11,
     "metadata": {},
     "output_type": "execute_result"
    }
   ],
   "source": [
    "import numpy as np\n",
    "np.exp(1.89)"
   ]
  },
  {
   "cell_type": "markdown",
   "id": "4e018c3f",
   "metadata": {},
   "source": [
    "# Model no 2: Ridge regression"
   ]
  },
  {
   "cell_type": "code",
   "execution_count": 12,
   "id": "f42cfee5",
   "metadata": {},
   "outputs": [
    {
     "name": "stdout",
     "output_type": "stream",
     "text": [
      "r2_score 0.9267286252795568\n",
      "r2_score 0.7760132259138347\n",
      "MAE 2.1772453325556143\n",
      "MSE 30.870325173604147\n",
      "best: Pipeline(steps=[('step1',\n",
      "                 ColumnTransformer(remainder='passthrough',\n",
      "                                   transformers=[('col_trf',\n",
      "                                                  OneHotEncoder(drop='first',\n",
      "                                                                handle_unknown='ignore',\n",
      "                                                                sparse=False),\n",
      "                                                  [0, 1])])),\n",
      "                ('step2', Ridge(alpha=1.08))])\n"
     ]
    }
   ],
   "source": [
    "step1=ColumnTransformer(transformers=[\n",
    "    ('col_trf', OneHotEncoder(sparse=False, drop='first',handle_unknown='ignore'),[0,1])\n",
    "],remainder='passthrough')\n",
    "\n",
    "step2=Ridge()  ## as alpha increases rigde slop line will decrease thhis will reduce increase the bias in model but \n",
    "                        #but reduce the varience as we can see by increasing the alpha overfitting reduces\n",
    "\n",
    "pipe=Pipeline([\n",
    "    ('step1',step1),\n",
    "    ('step2',step2)\n",
    "])\n",
    "\n",
    "model=pipe.fit(x_train,y_train)\n",
    "y_pred_train=pipe.predict(x_train)\n",
    "y_pred=pipe.predict(x_test)\n",
    "\n",
    "print('r2_score',r2_score(y_train,y_pred_train))\n",
    "print('r2_score',r2_score(y_test,y_pred))\n",
    "print('MAE',mean_absolute_error(y_test,y_pred))\n",
    "print('MSE',mean_squared_error(y_test,y_pred))\n",
    "\n",
    "# By using the GridserachCV we will find the best hyperparameter for rigde  model\n",
    "# generally alpga varies from 0 to infinity but 0 t0 10 is good value to check in ridge model.\n",
    "\n",
    "parameters=[ {'step2__alpha': np.arange(0, 10, 0.01) } ]\n",
    " \n",
    "clf = GridSearchCV(pipe, parameters)\n",
    "clf.fit(x_train,y_train)\n",
    "print('best:',clf.best_estimator_)\n"
   ]
  },
  {
   "cell_type": "markdown",
   "id": "ba62c409",
   "metadata": {},
   "source": [
    "# Notes on  Ridge model:\n",
    "1. Reducing the values of lambda can make the models complex and vice versa. \n",
    "2. We should find the perfect balance to prevent overfitting. Lambda is a positive value and can range from 0 to positive infinity. But typically chosen to be between 0 and 10.\n",
    "3. here alpha is hyperparameter as we keep inreasing the alpha values model get less sensitive and reduce the overfitting issue\n",
    "4. This model is similar to OLS model but instead of loss finction we try to reduce the ( loss + penalty ) terms.\n",
    "5. Penalty term is (alpha* sum of square of weight i.e slope)"
   ]
  },
  {
   "cell_type": "markdown",
   "id": "dcb67e40",
   "metadata": {},
   "source": [
    "# Model No 3 : Lasso Regression"
   ]
  },
  {
   "cell_type": "code",
   "execution_count": 13,
   "id": "0a2eef65",
   "metadata": {
    "scrolled": false
   },
   "outputs": [
    {
     "name": "stdout",
     "output_type": "stream",
     "text": [
      "r2_score_testing 0.7671975985095667\n",
      "r2_score_training 0.92027157061438\n",
      "MAE 2.3602170136407707\n",
      "MSE 32.08531336069415\n",
      "best: Pipeline(steps=[('step1',\n",
      "                 ColumnTransformer(remainder='passthrough',\n",
      "                                   transformers=[('col_trf',\n",
      "                                                  OneHotEncoder(drop='first',\n",
      "                                                                handle_unknown='ignore',\n",
      "                                                                sparse=False),\n",
      "                                                  [0, 1])])),\n",
      "                ('step2', Lasso(alpha=0.0))])\n"
     ]
    }
   ],
   "source": [
    "step1=ColumnTransformer(transformers=[\n",
    "    ('col_trf', OneHotEncoder(sparse=False, drop='first',handle_unknown='ignore'),[0,1])\n",
    "],remainder='passthrough')\n",
    "\n",
    "step2=Lasso(alpha=0.01)\n",
    "\n",
    "pipe=Pipeline([\n",
    "    ('step1',step1),\n",
    "    ('step2',step2)\n",
    "])\n",
    "\n",
    "model=pipe.fit(x_train,y_train)\n",
    "\n",
    "y_pred=pipe.predict(x_test)\n",
    "y_pred_train=pipe.predict(x_train)\n",
    "\n",
    "print('r2_score_testing',r2_score(y_test,y_pred))\n",
    "print('r2_score_training',r2_score(y_train,y_pred_train))\n",
    "print('MAE',mean_absolute_error(y_test,y_pred))\n",
    "print('MSE',mean_squared_error(y_test,y_pred))\n",
    "\n",
    "\n",
    "\n",
    "#finding the best alpha value for lasso regression using gridserachcv \n",
    "parameters=[{'step2__alpha':np.arange(0,10,0.2)}]\n",
    "clf=GridSearchCV(pipe,parameters)\n",
    "clf.fit(x_train,y_train)\n",
    "print('best:',clf.best_estimator_)\n",
    "\n",
    "\n"
   ]
  },
  {
   "cell_type": "markdown",
   "id": "f3491576",
   "metadata": {},
   "source": [
    "# Note on Lasso Regression model:\n",
    "1. Similar to the Ridge model but instead  of sum of square we use absolute weight in penalty term.\n",
    "2. due to this, this model try to reduce the coeficient to zero hence reduce the features by eliminating the coeff.\n",
    "3. along with the reducing the overfitting issue this model help in feature selection, as non significant feature's coeff will reach to zero \n",
    "4. here again alpha is hyperparameter"
   ]
  },
  {
   "cell_type": "code",
   "execution_count": 14,
   "id": "c1e661ab",
   "metadata": {
    "scrolled": true
   },
   "outputs": [
    {
     "data": {
      "text/plain": [
       "dict_keys(['memory', 'steps', 'verbose', 'step1', 'step2', 'step1__n_jobs', 'step1__remainder', 'step1__sparse_threshold', 'step1__transformer_weights', 'step1__transformers', 'step1__verbose', 'step1__verbose_feature_names_out', 'step1__col_trf', 'step1__col_trf__categories', 'step1__col_trf__drop', 'step1__col_trf__dtype', 'step1__col_trf__handle_unknown', 'step1__col_trf__sparse', 'step2__alpha', 'step2__copy_X', 'step2__fit_intercept', 'step2__max_iter', 'step2__normalize', 'step2__positive', 'step2__precompute', 'step2__random_state', 'step2__selection', 'step2__tol', 'step2__warm_start'])"
      ]
     },
     "execution_count": 14,
     "metadata": {},
     "output_type": "execute_result"
    }
   ],
   "source": [
    "pipe.get_params().keys()"
   ]
  },
  {
   "cell_type": "markdown",
   "id": "84dbf371",
   "metadata": {},
   "source": [
    "# Model no 4: KNeighbors Regression"
   ]
  },
  {
   "cell_type": "code",
   "execution_count": 15,
   "id": "df1beaf7",
   "metadata": {},
   "outputs": [
    {
     "name": "stdout",
     "output_type": "stream",
     "text": [
      "r2_score 0.53002549039422\n",
      "r2_score_train 0.846394128729493\n",
      "MAE 2.5700452898550723\n",
      "MSE 64.77286881793478\n",
      "Fitting 5 folds for each of 30 candidates, totalling 150 fits\n",
      "best values of k: {'step2__n_neighbors': 1}\n"
     ]
    }
   ],
   "source": [
    "step1=ColumnTransformer(transformers=[\n",
    "    ('col_trf', OneHotEncoder(sparse=False, drop='first',handle_unknown='ignore'),[0,1])\n",
    "],remainder='passthrough')\n",
    "\n",
    "step2=KNeighborsRegressor(n_neighbors=4)\n",
    "\n",
    "pipe=Pipeline([\n",
    "    ('step1',step1),\n",
    "    ('step2',step2)\n",
    "])\n",
    "\n",
    "model=pipe.fit(x_train,y_train)\n",
    "\n",
    "y_pred=pipe.predict(x_test)\n",
    "y_pred_train=pipe.predict(x_train)\n",
    "\n",
    "print('r2_score',r2_score(y_test,y_pred))\n",
    "print('r2_score_train',r2_score(y_train,y_pred_train))\n",
    "print('MAE',mean_absolute_error(y_test,y_pred))\n",
    "print('MSE',mean_squared_error(y_test,y_pred))\n",
    "\n",
    "# finding the best value of K using th GridSearchCv Method\n",
    "k_range = list(range(1, 31))\n",
    "param_grid = dict(step2__n_neighbors=k_range)\n",
    "clf=GridSearchCV(pipe,param_grid,scoring='accuracy',verbose=1)\n",
    "clf.fit(x_train,y_train)\n",
    "print('best values of k:',clf.best_params_)"
   ]
  },
  {
   "cell_type": "markdown",
   "id": "e4bce49b",
   "metadata": {},
   "source": [
    "# note on KKN model:\n",
    "1. this model can be used for classification as well as regression model.\n",
    "2. n_neighbours(K) is hyperparamerer\n",
    "3. work on finding the distance between nearest neighbour"
   ]
  },
  {
   "cell_type": "markdown",
   "id": "b3944c10",
   "metadata": {},
   "source": [
    "# Model no 5:Decision Tree Regression"
   ]
  },
  {
   "cell_type": "code",
   "execution_count": 16,
   "id": "0bf0e698",
   "metadata": {
    "scrolled": true
   },
   "outputs": [
    {
     "name": "stdout",
     "output_type": "stream",
     "text": [
      "r2_score_test 0.8422948571150196\n",
      "r2_score_train 0.9518497304022272\n",
      "MAE 1.8686195999556157\n",
      "MSE 21.735252281173647\n",
      "best values of max_depth: {'step2__max_depth': 8}\n"
     ]
    }
   ],
   "source": [
    "step1=ColumnTransformer(transformers=[\n",
    "    ('col_trf', OneHotEncoder(sparse=False, drop='first',handle_unknown='ignore'),[0,1])\n",
    "],remainder='passthrough')\n",
    "\n",
    "step2=DecisionTreeRegressor(max_depth=9)\n",
    "\n",
    "pipe=Pipeline([\n",
    "    ('step1',step1),\n",
    "    ('step2',step2)\n",
    "])\n",
    "\n",
    "model=pipe.fit(x_train,y_train)\n",
    "\n",
    "y_pred=pipe.predict(x_test)\n",
    "y_pred_train=pipe.predict(x_train)\n",
    "\n",
    "print('r2_score_test',r2_score(y_test,y_pred))\n",
    "print('r2_score_train',r2_score(y_train,y_pred_train))\n",
    "print('MAE',mean_absolute_error(y_test,y_pred))\n",
    "print('MSE',mean_squared_error(y_test,y_pred))\n",
    "\n",
    "# finding the best values of max_depth (hyperparameter) by using the GridSearchCV method\n",
    "parameters={\"step2__max_depth\" : [1,2,3,4,5,6,7,8,9,10]}\n",
    "clf=GridSearchCV(pipe,param_grid=parameters)\n",
    "clf.fit(x_train,y_train)\n",
    "print('best values of max_depth:',clf.best_params_)"
   ]
  },
  {
   "cell_type": "code",
   "execution_count": 17,
   "id": "c2d0375c",
   "metadata": {
    "scrolled": true
   },
   "outputs": [
    {
     "name": "stdout",
     "output_type": "stream",
     "text": [
      "|--- feature_0 <= 0.50\n",
      "|   |--- feature_45 <= 0.50\n",
      "|   |   |--- feature_90 <= 156.50\n",
      "|   |   |   |--- feature_89 <= 6.50\n",
      "|   |   |   |   |--- feature_12 <= 0.50\n",
      "|   |   |   |   |   |--- feature_77 <= 0.50\n",
      "|   |   |   |   |   |   |--- feature_70 <= 0.50\n",
      "|   |   |   |   |   |   |   |--- feature_30 <= 0.50\n",
      "|   |   |   |   |   |   |   |   |--- feature_20 <= 0.50\n",
      "|   |   |   |   |   |   |   |   |   |--- value: [7.74]\n",
      "|   |   |   |   |   |   |   |   |--- feature_20 >  0.50\n",
      "|   |   |   |   |   |   |   |   |   |--- value: [26.00]\n",
      "|   |   |   |   |   |   |   |--- feature_30 >  0.50\n",
      "|   |   |   |   |   |   |   |   |--- value: [41.75]\n",
      "|   |   |   |   |   |   |--- feature_70 >  0.50\n",
      "|   |   |   |   |   |   |   |--- feature_87 <= 2013.50\n",
      "|   |   |   |   |   |   |   |   |--- feature_87 <= 2012.50\n",
      "|   |   |   |   |   |   |   |   |   |--- value: [2.78]\n",
      "|   |   |   |   |   |   |   |   |--- feature_87 >  2012.50\n",
      "|   |   |   |   |   |   |   |   |   |--- value: [3.24]\n",
      "|   |   |   |   |   |   |   |--- feature_87 >  2013.50\n",
      "|   |   |   |   |   |   |   |   |--- feature_89 <= 5.50\n",
      "|   |   |   |   |   |   |   |   |   |--- value: [5.70]\n",
      "|   |   |   |   |   |   |   |   |--- feature_89 >  5.50\n",
      "|   |   |   |   |   |   |   |   |   |--- value: [11.58]\n",
      "|   |   |   |   |   |--- feature_77 >  0.50\n",
      "|   |   |   |   |   |   |--- feature_86 <= 42250.00\n",
      "|   |   |   |   |   |   |   |--- value: [48.25]\n",
      "|   |   |   |   |   |   |--- feature_86 >  42250.00\n",
      "|   |   |   |   |   |   |   |--- value: [24.00]\n",
      "|   |   |   |   |--- feature_12 >  0.50\n",
      "|   |   |   |   |   |--- feature_87 <= 2013.50\n",
      "|   |   |   |   |   |   |--- feature_87 <= 2010.50\n",
      "|   |   |   |   |   |   |   |--- value: [23.00]\n",
      "|   |   |   |   |   |   |--- feature_87 >  2010.50\n",
      "|   |   |   |   |   |   |   |--- feature_87 <= 2012.50\n",
      "|   |   |   |   |   |   |   |   |--- feature_94 <= 0.50\n",
      "|   |   |   |   |   |   |   |   |   |--- value: [9.25]\n",
      "|   |   |   |   |   |   |   |   |--- feature_94 >  0.50\n",
      "|   |   |   |   |   |   |   |   |   |--- value: [11.21]\n",
      "|   |   |   |   |   |   |   |--- feature_87 >  2012.50\n",
      "|   |   |   |   |   |   |   |   |--- value: [17.50]\n",
      "|   |   |   |   |   |--- feature_87 >  2013.50\n",
      "|   |   |   |   |   |   |--- feature_86 <= 32068.00\n",
      "|   |   |   |   |   |   |   |--- feature_86 <= 23500.00\n",
      "|   |   |   |   |   |   |   |   |--- value: [30.00]\n",
      "|   |   |   |   |   |   |   |--- feature_86 >  23500.00\n",
      "|   |   |   |   |   |   |   |   |--- feature_94 <= 0.50\n",
      "|   |   |   |   |   |   |   |   |   |--- value: [38.15]\n",
      "|   |   |   |   |   |   |   |   |--- feature_94 >  0.50\n",
      "|   |   |   |   |   |   |   |   |   |--- value: [41.25]\n",
      "|   |   |   |   |   |   |--- feature_86 >  32068.00\n",
      "|   |   |   |   |   |   |   |--- feature_36 <= 0.50\n",
      "|   |   |   |   |   |   |   |   |--- feature_88 <= 7.50\n",
      "|   |   |   |   |   |   |   |   |   |--- value: [22.75]\n",
      "|   |   |   |   |   |   |   |   |--- feature_88 >  7.50\n",
      "|   |   |   |   |   |   |   |   |   |--- value: [24.88]\n",
      "|   |   |   |   |   |   |   |--- feature_36 >  0.50\n",
      "|   |   |   |   |   |   |   |   |--- value: [43.85]\n",
      "|   |   |   |--- feature_89 >  6.50\n",
      "|   |   |   |   |--- feature_90 <= 15.80\n",
      "|   |   |   |   |   |--- feature_86 <= 71405.00\n",
      "|   |   |   |   |   |   |--- feature_66 <= 0.50\n",
      "|   |   |   |   |   |   |   |--- feature_42 <= 0.50\n",
      "|   |   |   |   |   |   |   |   |--- feature_87 <= 2017.00\n",
      "|   |   |   |   |   |   |   |   |   |--- value: [41.50]\n",
      "|   |   |   |   |   |   |   |   |--- feature_87 >  2017.00\n",
      "|   |   |   |   |   |   |   |   |   |--- value: [32.98]\n",
      "|   |   |   |   |   |   |   |--- feature_42 >  0.50\n",
      "|   |   |   |   |   |   |   |   |--- value: [47.45]\n",
      "|   |   |   |   |   |   |--- feature_66 >  0.50\n",
      "|   |   |   |   |   |   |   |--- value: [14.85]\n",
      "|   |   |   |   |   |--- feature_86 >  71405.00\n",
      "|   |   |   |   |   |   |--- feature_87 <= 2015.50\n",
      "|   |   |   |   |   |   |   |--- feature_89 <= 7.50\n",
      "|   |   |   |   |   |   |   |   |--- value: [14.00]\n",
      "|   |   |   |   |   |   |   |--- feature_89 >  7.50\n",
      "|   |   |   |   |   |   |   |   |--- value: [11.11]\n",
      "|   |   |   |   |   |   |--- feature_87 >  2015.50\n",
      "|   |   |   |   |   |   |   |--- feature_42 <= 0.50\n",
      "|   |   |   |   |   |   |   |   |--- value: [26.00]\n",
      "|   |   |   |   |   |   |   |--- feature_42 >  0.50\n",
      "|   |   |   |   |   |   |   |   |--- value: [29.99]\n",
      "|   |   |   |   |--- feature_90 >  15.80\n",
      "|   |   |   |   |   |--- feature_88 <= 10.50\n",
      "|   |   |   |   |   |   |--- feature_90 <= 21.39\n",
      "|   |   |   |   |   |   |   |--- feature_86 <= 41889.00\n",
      "|   |   |   |   |   |   |   |   |--- value: [5.35]\n",
      "|   |   |   |   |   |   |   |--- feature_86 >  41889.00\n",
      "|   |   |   |   |   |   |   |   |--- value: [5.25]\n",
      "|   |   |   |   |   |   |--- feature_90 >  21.39\n",
      "|   |   |   |   |   |   |   |--- value: [7.00]\n",
      "|   |   |   |   |   |--- feature_88 >  10.50\n",
      "|   |   |   |   |   |   |--- value: [10.75]\n",
      "|   |   |--- feature_90 >  156.50\n",
      "|   |   |   |--- feature_88 <= 7.50\n",
      "|   |   |   |   |--- feature_88 <= 3.00\n",
      "|   |   |   |   |   |--- value: [23.00]\n",
      "|   |   |   |   |--- feature_88 >  3.00\n",
      "|   |   |   |   |   |--- feature_85 <= 1.50\n",
      "|   |   |   |   |   |   |--- value: [18.00]\n",
      "|   |   |   |   |   |--- feature_85 >  1.50\n",
      "|   |   |   |   |   |   |--- value: [13.45]\n",
      "|   |   |   |--- feature_88 >  7.50\n",
      "|   |   |   |   |--- feature_87 <= 2020.50\n",
      "|   |   |   |   |   |--- value: [29.25]\n",
      "|   |   |   |   |--- feature_87 >  2020.50\n",
      "|   |   |   |   |   |--- feature_88 <= 10.00\n",
      "|   |   |   |   |   |   |--- value: [32.75]\n",
      "|   |   |   |   |   |--- feature_88 >  10.00\n",
      "|   |   |   |   |   |   |--- feature_54 <= 0.50\n",
      "|   |   |   |   |   |   |   |--- value: [42.00]\n",
      "|   |   |   |   |   |   |--- feature_54 >  0.50\n",
      "|   |   |   |   |   |   |   |--- value: [38.95]\n",
      "|   |--- feature_45 >  0.50\n",
      "|   |   |--- feature_86 <= 40500.00\n",
      "|   |   |   |--- value: [56.00]\n",
      "|   |   |--- feature_86 >  40500.00\n",
      "|   |   |   |--- feature_86 <= 58000.00\n",
      "|   |   |   |   |--- value: [42.75]\n",
      "|   |   |   |--- feature_86 >  58000.00\n",
      "|   |   |   |   |--- value: [42.00]\n",
      "|--- feature_0 >  0.50\n",
      "|   |--- feature_92 <= 0.50\n",
      "|   |   |--- feature_82 <= 0.50\n",
      "|   |   |   |--- feature_19 <= 0.50\n",
      "|   |   |   |   |--- value: [1.18]\n",
      "|   |   |   |--- feature_19 >  0.50\n",
      "|   |   |   |   |--- value: [1.28]\n",
      "|   |   |--- feature_82 >  0.50\n",
      "|   |   |   |--- value: [7.45]\n",
      "|   |--- feature_92 >  0.50\n",
      "|   |   |--- feature_87 <= 2015.00\n",
      "|   |   |   |--- value: [19.95]\n",
      "|   |   |--- feature_87 >  2015.00\n",
      "|   |   |   |--- feature_90 <= 22.12\n",
      "|   |   |   |   |--- feature_90 <= 11.84\n",
      "|   |   |   |   |   |--- value: [64.50]\n",
      "|   |   |   |   |--- feature_90 >  11.84\n",
      "|   |   |   |   |   |--- feature_87 <= 2019.50\n",
      "|   |   |   |   |   |   |--- value: [26.50]\n",
      "|   |   |   |   |   |--- feature_87 >  2019.50\n",
      "|   |   |   |   |   |   |--- value: [43.50]\n",
      "|   |   |   |--- feature_90 >  22.12\n",
      "|   |   |   |   |--- feature_88 <= 3.50\n",
      "|   |   |   |   |   |--- value: [55.00]\n",
      "|   |   |   |   |--- feature_88 >  3.50\n",
      "|   |   |   |   |   |--- value: [42.00]\n",
      "\n"
     ]
    }
   ],
   "source": [
    "from sklearn import datasets,tree\n",
    "text_representation = tree.export_text(step2)\n",
    "print(text_representation)"
   ]
  },
  {
   "cell_type": "code",
   "execution_count": 18,
   "id": "1bad16cf",
   "metadata": {},
   "outputs": [
    {
     "data": {
      "image/png": "[encoded data removed]",
      "text/plain": [
       "<Figure size 2500x2000 with 1 Axes>"
      ]
     },
     "metadata": {},
     "output_type": "display_data"
    }
   ],
   "source": [
    "fig = plt.figure(figsize=(25,20))\n",
    "_ = tree.plot_tree(step2, \n",
    "                   )"
   ]
  },
  {
   "cell_type": "code",
   "execution_count": 19,
   "id": "9fc660ae",
   "metadata": {},
   "outputs": [],
   "source": [
    "fig.savefig(\"decistion_tree.png\")"
   ]
  },
  {
   "cell_type": "markdown",
   "id": "87eec121",
   "metadata": {},
   "source": [
    "# Notes on Decision Tree Regression:\n",
    "1. MAx_depth is hyperparameter, generally odd no \n",
    "2. it works on splitting the best node such the in each splitting the max impurity get reduced or node splitting with highest reduction in variation"
   ]
  },
  {
   "cell_type": "markdown",
   "id": "9258f0cf",
   "metadata": {},
   "source": [
    "# Model no 6: SVR Regressor"
   ]
  },
  {
   "cell_type": "code",
   "execution_count": 20,
   "id": "8d96f118",
   "metadata": {},
   "outputs": [
    {
     "name": "stdout",
     "output_type": "stream",
     "text": [
      "r2_score_test -0.6832607988187682\n",
      "r2_score_train -0.04373552555221738\n",
      "MAE 6.002096486193655\n",
      "MSE 231.99052008100497\n"
     ]
    }
   ],
   "source": [
    "step1=ColumnTransformer(transformers=[\n",
    "    ('col_trf', OneHotEncoder(sparse=False, drop='first',handle_unknown='ignore'),[0,1])\n",
    "],remainder='passthrough')\n",
    "\n",
    "step2=SVR(kernel='rbf',C=10000,epsilon=0.2)\n",
    "\n",
    "pipe=Pipeline([\n",
    "    ('step1',step1),\n",
    "    ('step2',step2)\n",
    "])\n",
    "\n",
    "model=pipe.fit(x_train,y_train)\n",
    "\n",
    "\n",
    "y_pred=pipe.predict(x_test)\n",
    "y_pred_train=pipe.predict(x_train)\n",
    "\n",
    "print('r2_score_test',r2_score(y_test,y_pred))\n",
    "print('r2_score_train',r2_score(y_train,y_pred_train))\n",
    "print('MAE',mean_absolute_error(y_test,y_pred))\n",
    "print('MSE',mean_squared_error(y_test,y_pred))\n",
    "\n",
    "\n"
   ]
  },
  {
   "cell_type": "markdown",
   "id": "f73fd411",
   "metadata": {},
   "source": [
    "# Model no 7 : Random Forest Regressor"
   ]
  },
  {
   "cell_type": "code",
   "execution_count": 21,
   "id": "2f65fbaa",
   "metadata": {
    "scrolled": true
   },
   "outputs": [
    {
     "name": "stdout",
     "output_type": "stream",
     "text": [
      "r2_score_train 0.9824869969231311\n",
      "r2_score 0.8490616904182455\n",
      "MAE 1.4250237939669\n",
      "MSE 20.80263317757515\n"
     ]
    }
   ],
   "source": [
    "step1=ColumnTransformer(transformers=[\n",
    "    ('col_trf', OneHotEncoder(sparse=False, drop='first',handle_unknown='ignore'),[0,1])\n",
    "],remainder='passthrough')\n",
    "\n",
    "step2=RandomForestRegressor( n_estimators=300,\n",
    "                            random_state=1,\n",
    "                            max_samples=0.9,\n",
    "                            max_features=0.9,\n",
    "                            max_depth=15,\n",
    "                           bootstrap=True)\n",
    "\n",
    "pipe=Pipeline([\n",
    "    ('step1',step1),\n",
    "    ('step2',step2)\n",
    "])\n",
    "\n",
    "model=pipe.fit(x_train,y_train)\n",
    "\n",
    "y_pred=pipe.predict(x_test)\n",
    "y_pred_train=pipe.predict(x_train)\n",
    "\n",
    "print('r2_score_train',r2_score(y_train,y_pred_train))\n",
    "print('r2_score',r2_score(y_test,y_pred))\n",
    "print('MAE',mean_absolute_error(y_test,y_pred))\n",
    "print('MSE',mean_squared_error(y_test,y_pred))\n",
    "\n",
    "\n",
    "# # Create the parameter grid based on the results of random search \n",
    "# param_grid = {\n",
    "#     'step2__bootstrap': [True],\n",
    "#     'step2__max_depth': [1,3,5,7,9,11,13,15,17,19],\n",
    "#     'step2__max_features': [2, 3],\n",
    "#     'step2__min_samples_leaf': [3, 4, 5],\n",
    "#     'step2__min_samples_split': [8, 10, 12],\n",
    "#     'step2__n_estimators': [100, 200, 300, 1000]\n",
    "# }\n",
    "\n",
    "# # Instantiate the grid search model\n",
    "# clf = GridSearchCV(estimator = pipe, param_grid = param_grid, \n",
    "#                           cv = 3, n_jobs = -1, verbose = 2)\n",
    "# clf.fit(x_train,y_train)\n",
    "# print('best values of max_depth:',clf.best_params_)"
   ]
  },
  {
   "cell_type": "markdown",
   "id": "609f1ffd",
   "metadata": {},
   "source": [
    "r2_score_train 0.9884266384050977  \n",
    "r2_score 0.8533869944129645  \n",
    "MAE 1.1186416985852368  \n",
    "MSE 20.20651074429122  \n",
    "Fitting 3 folds for each of 720 candidates, totalling 2160 fits  \n",
    "best values of max_depth: {'step2__bootstrap': True, 'step2__max_depth': 13, 'step2__max_features': 3,   'step2__min_samples_leaf': 3, 'step2__min_samples_split': 8, 'step2__n_estimators': 100}  "
   ]
  },
  {
   "cell_type": "markdown",
   "id": "03655dab",
   "metadata": {},
   "source": [
    "# Model no 8: Extra tree Regressor"
   ]
  },
  {
   "cell_type": "code",
   "execution_count": 22,
   "id": "8957fae6",
   "metadata": {
    "scrolled": true
   },
   "outputs": [
    {
     "name": "stdout",
     "output_type": "stream",
     "text": [
      "r2_score_train 0.9805847578703613\n",
      "r2_score 0.8835843380654034\n",
      "MAE 1.369075202204222\n",
      "MSE 16.044649751680772\n"
     ]
    }
   ],
   "source": [
    "step1=ColumnTransformer(transformers=[\n",
    "    ('col_trf', OneHotEncoder(sparse=False, drop='first',handle_unknown='ignore'),[0,1])\n",
    "],remainder='passthrough')\n",
    "\n",
    "step2=ExtraTreesRegressor( n_estimators=100,\n",
    "                            random_state=3,\n",
    "                            max_samples=None,\n",
    "                            max_features=0.75,\n",
    "                            max_depth=15)\n",
    "\n",
    "pipe=Pipeline([\n",
    "    ('step1',step1),\n",
    "    ('step2',step2)\n",
    "])\n",
    "\n",
    "model=pipe.fit(x_train,y_train)\n",
    "\n",
    "y_pred=pipe.predict(x_test)\n",
    "y_pred_train=pipe.predict(x_train)\n",
    "\n",
    "print('r2_score_train',r2_score(y_train,y_pred_train))\n",
    "print('r2_score',r2_score(y_test,y_pred))\n",
    "print('MAE',mean_absolute_error(y_test,y_pred))\n",
    "print('MSE',mean_squared_error(y_test,y_pred))"
   ]
  },
  {
   "cell_type": "markdown",
   "id": "2582b8cd",
   "metadata": {},
   "source": [
    "# Model no 9: AdaBoostRegressor"
   ]
  },
  {
   "cell_type": "code",
   "execution_count": 23,
   "id": "e16fb437",
   "metadata": {
    "scrolled": true
   },
   "outputs": [
    {
     "name": "stdout",
     "output_type": "stream",
     "text": [
      "r2_score_train 0.8489002604933098\n",
      "r2_score 0.6574574026630118\n",
      "MAE 3.4098745297809123\n",
      "MSE 47.209936429264\n"
     ]
    }
   ],
   "source": [
    "step1=ColumnTransformer(transformers=[\n",
    "    ('col_trf', OneHotEncoder(sparse=False, drop='first',handle_unknown='ignore'),[0,1])\n",
    "],remainder='passthrough')\n",
    "\n",
    "step2=AdaBoostRegressor( n_estimators=15,\n",
    "                        learning_rate=0.1)\n",
    "\n",
    "pipe=Pipeline([\n",
    "    ('step1',step1),\n",
    "    ('step2',step2)\n",
    "])\n",
    "\n",
    "model=pipe.fit(x_train,y_train)\n",
    "\n",
    "y_pred=pipe.predict(x_test)\n",
    "y_pred_train=pipe.predict(x_train)\n",
    "\n",
    "print('r2_score_train',r2_score(y_train,y_pred_train))\n",
    "print('r2_score',r2_score(y_test,y_pred))\n",
    "print('MAE',mean_absolute_error(y_test,y_pred))\n",
    "print('MSE',mean_squared_error(y_test,y_pred))"
   ]
  },
  {
   "cell_type": "markdown",
   "id": "a8f2b30f",
   "metadata": {},
   "source": [
    "# Model no 10: Gradient Boosting Regressor"
   ]
  },
  {
   "cell_type": "code",
   "execution_count": 24,
   "id": "5bc5c5c3",
   "metadata": {},
   "outputs": [
    {
     "name": "stdout",
     "output_type": "stream",
     "text": [
      "r2_score_train 0.9974202289635448\n",
      "r2_score 0.8716282471628997\n",
      "MAE 0.926969677140458\n",
      "MSE 17.69246317937662\n"
     ]
    }
   ],
   "source": [
    "step1=ColumnTransformer(transformers=[\n",
    "    ('col_trf', OneHotEncoder(sparse=False, drop='first',handle_unknown='ignore'),[0,1])\n",
    "],remainder='passthrough')\n",
    "\n",
    "step2=GradientBoostingRegressor( n_estimators=500,\n",
    "                            )\n",
    "\n",
    "pipe=Pipeline([\n",
    "    ('step1',step1),\n",
    "    ('step2',step2)\n",
    "])\n",
    "\n",
    "model=pipe.fit(x_train,y_train)\n",
    "\n",
    "y_pred=pipe.predict(x_test)\n",
    "y_pred_train=pipe.predict(x_train)\n",
    "\n",
    "print('r2_score_train',r2_score(y_train,y_pred_train))\n",
    "print('r2_score',r2_score(y_test,y_pred))\n",
    "print('MAE',mean_absolute_error(y_test,y_pred))\n",
    "print('MSE',mean_squared_error(y_test,y_pred))"
   ]
  },
  {
   "cell_type": "markdown",
   "id": "ac2006b6",
   "metadata": {},
   "source": [
    "# Model no 11: XGRegressor"
   ]
  },
  {
   "cell_type": "code",
   "execution_count": 23,
   "id": "85b123a3",
   "metadata": {},
   "outputs": [
    {
     "name": "stdout",
     "output_type": "stream",
     "text": [
      "r2_score 0.8866770061421878\n",
      "r2_score_train 0.9982521814617789\n",
      "MAE 0.8192185267330945\n",
      "MSE 15.618411775916922\n"
     ]
    }
   ],
   "source": [
    "step1=ColumnTransformer(transformers=[\n",
    "    ('col_trf', OneHotEncoder(sparse=False, drop='first',handle_unknown='ignore'),[0,1])\n",
    "],remainder='passthrough')\n",
    "\n",
    "step2=XGBRegressor( n_estimators=300,\n",
    "                 learning_rate=0.4,\n",
    "                max_depth=5)\n",
    "\n",
    "pipe=Pipeline([\n",
    "    ('step1',step1),\n",
    "    ('step2',step2)\n",
    "])\n",
    "\n",
    "XGBR_model=pipe.fit(x_train,y_train)\n",
    "\n",
    "y_pred=pipe.predict(x_test)\n",
    "y_pred_train=pipe.predict(x_train)\n",
    "\n",
    "print('r2_score',r2_score(y_test,y_pred))\n",
    "print('r2_score_train',r2_score(y_train,y_pred_train))\n",
    "print('MAE',mean_absolute_error(y_test,y_pred))\n",
    "print('MSE',mean_squared_error(y_test,y_pred))"
   ]
  },
  {
   "cell_type": "markdown",
   "id": "cdac8b47",
   "metadata": {},
   "source": [
    "# We will select the XGboost Model for our prediction "
   ]
  },
  {
   "cell_type": "markdown",
   "id": "2b226f24",
   "metadata": {},
   "source": [
    "### Manually checking the results for car data"
   ]
  },
  {
   "cell_type": "code",
   "execution_count": 51,
   "id": "5a9de5f0",
   "metadata": {},
   "outputs": [
    {
     "data": {
      "text/html": [
       "<div>\n",
       "<style scoped>\n",
       "    .dataframe tbody tr th:only-of-type {\n",
       "        vertical-align: middle;\n",
       "    }\n",
       "\n",
       "    .dataframe tbody tr th {\n",
       "        vertical-align: top;\n",
       "    }\n",
       "\n",
       "    .dataframe thead th {\n",
       "        text-align: right;\n",
       "    }\n",
       "</style>\n",
       "<table border=\"1\" class=\"dataframe\">\n",
       "  <thead>\n",
       "    <tr style=\"text-align: right;\">\n",
       "      <th></th>\n",
       "      <th>car_name</th>\n",
       "      <th>model_name</th>\n",
       "      <th>no_of_owner</th>\n",
       "      <th>KMS_Driven</th>\n",
       "      <th>mfg_year</th>\n",
       "      <th>colour</th>\n",
       "      <th>seating_capacity</th>\n",
       "      <th>milage</th>\n",
       "      <th>price</th>\n",
       "      <th>original_price</th>\n",
       "      <th>CNG</th>\n",
       "      <th>Diesel</th>\n",
       "      <th>Electric</th>\n",
       "      <th>Petrol</th>\n",
       "    </tr>\n",
       "  </thead>\n",
       "  <tbody>\n",
       "    <tr>\n",
       "      <th>0</th>\n",
       "      <td>Honda</td>\n",
       "      <td>Amaze</td>\n",
       "      <td>1</td>\n",
       "      <td>36471</td>\n",
       "      <td>2021</td>\n",
       "      <td>14</td>\n",
       "      <td>5</td>\n",
       "      <td>19.0</td>\n",
       "      <td>9.20</td>\n",
       "      <td>7.99</td>\n",
       "      <td>0</td>\n",
       "      <td>0</td>\n",
       "      <td>0</td>\n",
       "      <td>1</td>\n",
       "    </tr>\n",
       "    <tr>\n",
       "      <th>1</th>\n",
       "      <td>Honda</td>\n",
       "      <td>Civic</td>\n",
       "      <td>1</td>\n",
       "      <td>29000</td>\n",
       "      <td>2019</td>\n",
       "      <td>13</td>\n",
       "      <td>5</td>\n",
       "      <td>16.5</td>\n",
       "      <td>16.90</td>\n",
       "      <td>17.02</td>\n",
       "      <td>0</td>\n",
       "      <td>0</td>\n",
       "      <td>0</td>\n",
       "      <td>1</td>\n",
       "    </tr>\n",
       "    <tr>\n",
       "      <th>2</th>\n",
       "      <td>Honda</td>\n",
       "      <td>Jazz</td>\n",
       "      <td>1</td>\n",
       "      <td>34356</td>\n",
       "      <td>2016</td>\n",
       "      <td>14</td>\n",
       "      <td>5</td>\n",
       "      <td>19.0</td>\n",
       "      <td>6.25</td>\n",
       "      <td>6.15</td>\n",
       "      <td>0</td>\n",
       "      <td>0</td>\n",
       "      <td>0</td>\n",
       "      <td>1</td>\n",
       "    </tr>\n",
       "    <tr>\n",
       "      <th>3</th>\n",
       "      <td>Maruti</td>\n",
       "      <td>Suzuki</td>\n",
       "      <td>1</td>\n",
       "      <td>32000</td>\n",
       "      <td>2017</td>\n",
       "      <td>7</td>\n",
       "      <td>5</td>\n",
       "      <td>20.5</td>\n",
       "      <td>4.25</td>\n",
       "      <td>4.48</td>\n",
       "      <td>0</td>\n",
       "      <td>0</td>\n",
       "      <td>0</td>\n",
       "      <td>1</td>\n",
       "    </tr>\n",
       "    <tr>\n",
       "      <th>4</th>\n",
       "      <td>Honda</td>\n",
       "      <td>Jazz</td>\n",
       "      <td>1</td>\n",
       "      <td>17847</td>\n",
       "      <td>2019</td>\n",
       "      <td>14</td>\n",
       "      <td>5</td>\n",
       "      <td>18.7</td>\n",
       "      <td>6.80</td>\n",
       "      <td>7.75</td>\n",
       "      <td>0</td>\n",
       "      <td>0</td>\n",
       "      <td>0</td>\n",
       "      <td>1</td>\n",
       "    </tr>\n",
       "  </tbody>\n",
       "</table>\n",
       "</div>"
      ],
      "text/plain": [
       "  car_name model_name  no_of_owner  KMS_Driven  mfg_year  colour  \\\n",
       "0    Honda      Amaze            1       36471      2021      14   \n",
       "1    Honda      Civic            1       29000      2019      13   \n",
       "2    Honda       Jazz            1       34356      2016      14   \n",
       "3   Maruti     Suzuki            1       32000      2017       7   \n",
       "4    Honda       Jazz            1       17847      2019      14   \n",
       "\n",
       "   seating_capacity  milage  price  original_price  CNG  Diesel  Electric  \\\n",
       "0                 5    19.0   9.20            7.99    0       0         0   \n",
       "1                 5    16.5  16.90           17.02    0       0         0   \n",
       "2                 5    19.0   6.25            6.15    0       0         0   \n",
       "3                 5    20.5   4.25            4.48    0       0         0   \n",
       "4                 5    18.7   6.80            7.75    0       0         0   \n",
       "\n",
       "   Petrol  \n",
       "0       1  \n",
       "1       1  \n",
       "2       1  \n",
       "3       1  \n",
       "4       1  "
      ]
     },
     "execution_count": 51,
     "metadata": {},
     "output_type": "execute_result"
    }
   ],
   "source": [
    "car_data[0:5]"
   ]
  },
  {
   "cell_type": "code",
   "execution_count": 52,
   "id": "f4232506",
   "metadata": {},
   "outputs": [
    {
     "data": {
      "text/plain": [
       "array([ 9.199494 , 16.899609 ,  6.2491765,  4.26518  ,  6.79988  ],\n",
       "      dtype=float32)"
      ]
     },
     "execution_count": 52,
     "metadata": {},
     "output_type": "execute_result"
    }
   ],
   "source": [
    "pipe.predict(car_data[0:5])"
   ]
  },
  {
   "cell_type": "markdown",
   "id": "552213a0",
   "metadata": {},
   "source": [
    "## we can say that model is giving the good accurate results"
   ]
  },
  {
   "cell_type": "markdown",
   "id": "cef189ce",
   "metadata": {},
   "source": [
    "# files for model Deplyment"
   ]
  },
  {
   "cell_type": "code",
   "execution_count": 24,
   "id": "beaed14e",
   "metadata": {},
   "outputs": [],
   "source": [
    "import pickle"
   ]
  },
  {
   "cell_type": "code",
   "execution_count": 25,
   "id": "aadc1907",
   "metadata": {},
   "outputs": [],
   "source": [
    "pickle.dump(XGBR_model,open('XGBR_model.pkl','wb'))"
   ]
  },
  {
   "cell_type": "code",
   "execution_count": 26,
   "id": "984b5b10",
   "metadata": {},
   "outputs": [],
   "source": [
    "pickled_model = pickle.load(open('XGBR_model.pkl', 'rb'))\n"
   ]
  },
  {
   "cell_type": "code",
   "execution_count": 27,
   "id": "1c42bae0",
   "metadata": {},
   "outputs": [
    {
     "data": {
      "text/plain": [
       "array([ 9.199494 , 16.899609 ,  6.2491765,  4.26518  ,  6.79988  ],\n",
       "      dtype=float32)"
      ]
     },
     "execution_count": 27,
     "metadata": {},
     "output_type": "execute_result"
    }
   ],
   "source": [
    "pickled_model.predict(car_data[0:5])"
   ]
  },
  {
   "cell_type": "code",
   "execution_count": 28,
   "id": "c668a98d",
   "metadata": {},
   "outputs": [],
   "source": [
    "pickle.dump(car_data,open('car_data.pkl','wb'))\n",
    "pickle.dump(pipe,open('pipe.pkl','wb'))"
   ]
  },
  {
   "cell_type": "code",
   "execution_count": null,
   "id": "16da3c8c",
   "metadata": {},
   "outputs": [],
   "source": []
  }
 ],
 "metadata": {
  "kernelspec": {
   "display_name": "Python 3 (ipykernel)",
   "language": "python",
   "name": "python3"
  },
  "language_info": {
   "codemirror_mode": {
    "name": "ipython",
    "version": 3
   },
   "file_extension": ".py",
   "mimetype": "text/x-python",
   "name": "python",
   "nbconvert_exporter": "python",
   "pygments_lexer": "ipython3",
   "version": "3.9.15"
  }
 },
 "nbformat": 4,
 "nbformat_minor": 5
}
